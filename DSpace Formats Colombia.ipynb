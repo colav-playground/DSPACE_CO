{
 "cells": [
  {
   "cell_type": "code",
   "execution_count": 7,
   "id": "3d408f66-733f-4dc6-9139-a86878b2c41f",
   "metadata": {},
   "outputs": [],
   "source": [
    "from colombia_config4 import endpoints\n",
    "import requests\n",
    "import xmltodict\n",
    "import ssl\n",
    "import urllib\n",
    "import socket"
   ]
  },
  {
   "cell_type": "code",
   "execution_count": 8,
   "id": "8a7a22f8-2311-41f4-9a7f-b7a55ab4f0df",
   "metadata": {},
   "outputs": [],
   "source": [
    "#setting https and timeout support for urllib\n",
    "ssl_context = ssl._create_unverified_context()\n",
    "\n",
    "# Configurar un opener global con el contexto SSL\n",
    "opener = urllib.request.build_opener(urllib.request.HTTPSHandler(context=ssl_context))\n",
    "urllib.request.install_opener(opener)\n",
    "\n",
    "socket.setdefaulttimeout(240)"
   ]
  },
  {
   "cell_type": "code",
   "execution_count": 10,
   "id": "3b8a5624-b2bd-424f-9200-82465212ced8",
   "metadata": {},
   "outputs": [],
   "source": [
    "req=urllib.request.urlopen(\"https://repositorio.unal.edu.co/oai/request?verb=ListMetadataFormats\")"
   ]
  },
  {
   "cell_type": "code",
   "execution_count": null,
   "id": "ca8b5cbd-14bd-4525-809a-e5e5d8153675",
   "metadata": {},
   "outputs": [],
   "source": []
  },
  {
   "cell_type": "code",
   "execution_count": 13,
   "id": "aa88f73e-a8fc-46db-a5d0-52d2381d8873",
   "metadata": {},
   "outputs": [
    {
     "name": "stdout",
     "output_type": "stream",
     "text": [
      "HTTP Error 403: Forbidden\n",
      "https://repositorio.unillanos.edu.co/server/oai/request?verb=ListMetadataFormats\n",
      "HTTP Error 403: Forbidden\n",
      "https://repository.usta.edu.co/oai/request?verb=ListMetadataFormats\n",
      "The read operation timed out\n",
      "https://repository.upb.edu.co/oai/request?verb=ListMetadataFormats\n",
      "Remote end closed connection without response\n",
      "https://repository.eafit.edu.co/server/oai/request?verb=ListMetadataFormats\n",
      "<urlopen error [Errno 110] Connection timed out>\n",
      "https://repositorio.ucm.edu.co/oai/request?verb=ListMetadataFormats\n",
      "HTTP Error 404: Not found\n",
      "https://repositorio.utb.edu.co/oai/request?verb=ListMetadataFormats\n",
      "HTTP Error 403: Forbidden\n",
      "https://alejandria.poligran.edu.co/oai/request?verb=ListMetadataFormats\n",
      "HTTP Error 403: Forbidden\n",
      "https://dspace.corhuila.edu.co/server/oai/request?verb=ListMetadataFormats\n",
      "HTTP Error 404: Not found\n",
      "https://repositorio.uniagustiniana.edu.co/oai/request?verb=ListMetadataFormats\n",
      "HTTP Error 403: Forbidden\n",
      "https://www.esdegrepositorio.edu.co/oai/request?verb=ListMetadataFormats\n",
      "<urlopen error [Errno 111] Connection refused>\n",
      "https://repositorio.pascualbravo.edu.co/server/oai/request?verb=ListMetadataFormats\n",
      "HTTP Error 500: \n",
      "http://repositorio.aunar.edu.co:8080/oai/request?verb=ListMetadataFormats\n",
      "HTTP Error 403: Forbidden\n",
      "https://repositorio.unicomfacauca.edu.co/oai/request?verb=ListMetadataFormats\n",
      "HTTP Error 403: Forbidden\n",
      "https://repositorio.itfip.edu.co/oai/request?verb=ListMetadataFormats\n",
      "HTTP Error 403: Forbidden\n",
      "https://repositorio.uniautonoma.edu.co/server/oai/request?verb=ListMetadataFormats\n"
     ]
    }
   ],
   "source": [
    "types=[]\n",
    "for i in endpoints.keys():\n",
    "    url=endpoints[i][\"url\"]\n",
    "    url=url+\"?verb=ListMetadataFormats\"\n",
    "    try:\n",
    "        req=urllib.request.urlopen(url)\n",
    "        if req.status == 200:\n",
    "            types.append(xmltodict.parse(req.read()))\n",
    "        else:\n",
    "            print(f\"ERROR: {url}\")\n",
    "    except Exception as e:\n",
    "        print(e)\n",
    "        print(url)"
   ]
  },
  {
   "cell_type": "code",
   "execution_count": 16,
   "id": "9bc3577c-4985-4bc4-91b6-482cbc5ab461",
   "metadata": {},
   "outputs": [
    {
     "data": {
      "text/plain": [
       "{'metadataPrefix': 'uketd_dc',\n",
       " 'schema': 'http://naca.central.cranfield.ac.uk/ethos-oai/2.0/uketd_dc.xsd',\n",
       " 'metadataNamespace': 'http://naca.central.cranfield.ac.uk/ethos-oai/2.0/'}"
      ]
     },
     "execution_count": 16,
     "metadata": {},
     "output_type": "execute_result"
    }
   ],
   "source": [
    "types[0][\"OAI-PMH\"][\"ListMetadataFormats\"][\"metadataFormat\"][0]"
   ]
  },
  {
   "cell_type": "code",
   "execution_count": 18,
   "id": "363db750-55ea-48ba-ac37-0adf17868b32",
   "metadata": {},
   "outputs": [],
   "source": [
    "types_count={}\n",
    "\n",
    "for t in types:\n",
    "    for tf in t[\"OAI-PMH\"][\"ListMetadataFormats\"][\"metadataFormat\"]:\n",
    "        t_name=tf[\"metadataPrefix\"]\n",
    "        if t_name in types_count:\n",
    "            types_count[t_name]+=1\n",
    "        else:\n",
    "            types_count[t_name]=1"
   ]
  },
  {
   "cell_type": "code",
   "execution_count": 19,
   "id": "c90dbc64-cf98-4f6f-a483-345a6ae154e8",
   "metadata": {},
   "outputs": [
    {
     "data": {
      "text/plain": [
       "{'uketd_dc': 105,\n",
       " 'qdc': 105,\n",
       " 'didl': 105,\n",
       " 'mods': 105,\n",
       " 'ore': 105,\n",
       " 'mets': 105,\n",
       " 'oai_dc': 105,\n",
       " 'rdf': 105,\n",
       " 'marc': 105,\n",
       " 'xoai': 104,\n",
       " 'dim': 105,\n",
       " 'etdms': 105}"
      ]
     },
     "execution_count": 19,
     "metadata": {},
     "output_type": "execute_result"
    }
   ],
   "source": [
    "types_count"
   ]
  },
  {
   "cell_type": "code",
   "execution_count": null,
   "id": "80aac70a-3314-4cda-a95e-60be2efc032d",
   "metadata": {},
   "outputs": [],
   "source": []
  }
 ],
 "metadata": {
  "kernelspec": {
   "display_name": "Python 3 (ipykernel)",
   "language": "python",
   "name": "python3"
  },
  "language_info": {
   "codemirror_mode": {
    "name": "ipython",
    "version": 3
   },
   "file_extension": ".py",
   "mimetype": "text/x-python",
   "name": "python",
   "nbconvert_exporter": "python",
   "pygments_lexer": "ipython3",
   "version": "3.12.3"
  }
 },
 "nbformat": 4,
 "nbformat_minor": 5
}
