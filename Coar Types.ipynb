{
 "cells": [
  {
   "cell_type": "code",
   "execution_count": 22,
   "id": "0c720bb4-f461-459c-87af-aad89a0fd4b7",
   "metadata": {},
   "outputs": [],
   "source": [
    "import requests\n",
    "import xmltodict\n",
    "from IPython.display import JSON\n",
    "import pandas as pd"
   ]
  },
  {
   "cell_type": "code",
   "execution_count": null,
   "id": "d937d7ce-5d9f-46b7-8d21-2ce668eab4fd",
   "metadata": {},
   "outputs": [],
   "source": [
    "req = requests.get(f\"https://vocabularies.coar-repositories.org/resource_types/1.1/resource_types_for_dspace_en.xml\")\n",
    "data=xmltodict.parse(req.text)"
   ]
  },
  {
   "cell_type": "code",
   "execution_count": 16,
   "id": "70b3a1e2-c6a4-4d2c-aa16-2e2ccf586ade",
   "metadata": {},
   "outputs": [
    {
     "data": {
      "application/json": {
       "node": {
        "@id": "http://purl.org/coar/resource_type",
        "@label": "Resource Types",
        "isComposedBy": {
         "node": [
          {
           "@id": "c_12cc",
           "@label": "cartographic material",
           "hasNote": "Any material representing the whole or part of the earth or any celestial body at any scale. Cartographic materials include two- and three-dimensional maps and plans (including maps of imaginary places); aeronautical, navigational, and celestial charts; atlases; globes; block diagrams; sections; aerial photographs with a cartographic purpose; bird's-eye views (map views), etc. [Source: http://www.loc.gov/marc/cfmap.html]",
           "isComposedBy": {
            "node": {
             "@id": "c_12cd",
             "@label": "map",
             "hasNote": "Defined as a representation normally to scale and on a flat medium, of a selection of material or abstract features on, or in relation to, the surface of the earth or of another celestial body. [Source: https://www.loc.gov/marc/bibliographic/bd007a.html]"
            }
           }
          },
          {
           "@id": "c_ddb1",
           "@label": "dataset",
           "hasNote": "A collection of related facts and data encoded in a defined structure.\n (adapted from fabio; DataCite)"
          },
          {
           "@id": "c_c513",
           "@label": "image",
           "hasNote": "A visual representation other than text, including all types of moving image and still image.",
           "isComposedBy": {
            "node": [
             {
              "@id": "c_8a7e",
              "@label": "moving image",
              "hasNote": "A moving display, either generated dynamically by a computer program or formed from a series of pre-recorded still images imparting an impression of motion when shown in succession.\n (adapted from fabio)",
              "isComposedBy": {
               "node": {
                "@id": "c_12ce",
                "@label": "video",
                "hasNote": "A recording of visual images, usually in motion and with sound accompaniment. [Source: http://www.ifla.org/files/assets/cataloguing/isbd/isbd-cons_20110321.pdf ]"
               }
              }
             },
             {
              "@id": "c_ecc8",
              "@label": "still image",
              "hasNote": "A recorded static visual representation. This class of image includes diagrams, drawings, graphs, graphic designs, plans, photographs and prints."
             }
            ]
           }
          },
          {
           "@id": "c_e9a0",
           "@label": "interactive resource",
           "hasNote": "A resource requiring interaction from the user to be understood, executed, or experienced. Examples include forms on Web pages, applets, multimedia learning objects, chat services, or virtual reality environments. [Source: http://dublincore.org/documents/2010/10/11/dcmi-type-vocabulary/  ]",
           "isComposedBy": {
            "node": {
             "@id": "c_7ad9",
             "@label": "website",
             "hasNote": "A website, also written as web site or simply site, is a set of related web pages typically served from a single web domain. A website is hosted on at least one web server, accessible via a network such as the Internet or a private local area network through an Internet address known as a uniform resource locator (URL). All publicly accessible websites collectively constitute the World Wide Web. [Source: https://en.wikipedia.org/wiki/Website ]"
            }
           }
          },
          {
           "@id": "c_1843",
           "@label": "other",
           "hasNote": "A rest category which may cover text, interactive, sound, or image-based resources not explicitly addressed in any concept in this vocabulary"
          },
          {
           "@id": "c_5ce6",
           "@label": "software",
           "hasNote": "A computer program in source code (text) or compiled form."
          },
          {
           "@id": "c_18cc",
           "@label": "sound",
           "hasNote": "A resource primarily intended to be heard. Examples include a music playback file format, an audio compact disc, and recorded speech or sounds. [Source: http://dublincore.org/documents/dcmi-terms/#dcmitype-Sound]",
           "isComposedBy": {
            "node": {
             "@id": "c_18cd",
             "@label": "musical composition",
             "hasNote": "Musical composition can refer to an original piece of music, the structure of a musical piece, or the process of creating a new piece of music.   [Source: https://en.wikipedia.org/wiki/Musical_composition ]"
            }
           }
          },
          {
           "@id": "c_18cf",
           "@label": "text",
           "hasNote": "A resource consisting primarily of words for reading. Examples include books, letters, dissertations, poems, newspapers, articles, archives of mailing lists. Note that facsimiles or images of texts are still of the genre Text. [Source: http://dublincore.org/documents/dcmi-terms/#dcmitype-Sound]",
           "isComposedBy": {
            "node": [
             {
              "@id": "c_1162",
              "@label": "annotation",
              "hasNote": "An annotation in the sense of a legal note is a legally explanatory comment on a decision handed down by a court or arbitral tribunal."
             },
             {
              "@id": "c_86bc",
              "@label": "bibliography",
              "hasNote": "A systematic list or enumeration of written works by a specific author or on a given subject."
             },
             {
              "@id": "c_2f33",
              "@label": "book",
              "hasNote": "A non-serial publication that is complete in one volume or a designated finite number of volumes.\n (adapted from CiTO; EPrint Type vocabulary)",
              "isComposedBy": {
               "node": {
                "@id": "c_3248",
                "@label": "book part",
                "hasNote": "A defined chapter or section of a book, usually with a separate title or number."
               }
              }
             },
             {
              "@id": "c_c94f",
              "@label": "conference object",
              "hasNote": "All kind of digital resources contributed to a conference, like conference presentation (slides), conference report, conference lecture, abstracts, demonstrations.\n For conference papers, posters or proceedings the specific concepts should be used..",
              "isComposedBy": {
               "node": [
                {
                 "@id": "c_18cp",
                 "@label": "conference paper not in proceedings",
                 "hasNote": "A conference paper that is submitted to a conference and presented to the audience. The conference paper is not published in proceedings. [Source: http://academia.stackexchange.com/questions/18349/difference-between-conference-paper-and-journal-paper ]"
                },
                {
                 "@id": "c_18co",
                 "@label": "conference poster not in proceedings",
                 "hasNote": "A conference poster that is submitted to a conference and presented there at a poster presentation. The conference poster is not published in proceedings. [Source: http://academia.stackexchange.com/questions/18349/difference-between-conference-paper-and-journal-paper]"
                },
                {
                 "@id": "c_f744",
                 "@label": "conference proceedings",
                 "hasNote": "Conference proceedings is the official record of a conference meeting. It is a collection of documents which corresponds to the presentations given at the conference. It may include additional content. [Source: http://www.ieee.org/documents/confprocdefined.pdf  ]",
                 "isComposedBy": {
                  "node": [
                   {
                    "@id": "c_5794",
                    "@label": "conference paper",
                    "hasNote": "A conference paper that is submitted to a conference and presented to the audience. The conference paper is published in proceedings."
                   },
                   {
                    "@id": "c_6670",
                    "@label": "conference poster",
                    "hasNote": "A conference poster that is submitted to a conference and presented there at a poster presentation. The conference poster is published in proceedings."
                   }
                  ]
                 }
                }
               ]
              }
             },
             {
              "@id": "c_8544",
              "@label": "lecture",
              "hasNote": "A transcription of a talk delivered during an academic event."
             },
             {
              "@id": "c_0857",
              "@label": "letter",
              "hasNote": "A brief description of important new research, also known as “communication”.\n (adapted from EuroCRIS)"
             },
             {
              "@id": "c_18cw",
              "@label": "musical notation",
              "hasNote": "Musical notation is any system used to visually represent aurally perceived music through the use of written symbols, including ancient or modern musical symbols. [Source: https://en.wikipedia.org/wiki/Musical_notation]"
             },
             {
              "@id": "c_15cd",
              "@label": "patent",
              "hasNote": "A patent or patent application."
             },
             {
              "@id": "c_2659",
              "@label": "periodical",
              "hasNote": "A periodical is a publication issued on a regular and ongoing basis as a series of issues.\n (Adapted from fabio) [Source: http://www.abc-clio.com/ODLIS/odlis_p.aspx]",
              "isComposedBy": {
               "node": {
                "@id": "c_0640",
                "@label": "journal",
                "hasNote": "A periodical of (academic) journal articles. \n (Adapted from bibo) [Source: http://dspacecris.eurocris.org/cris/classcerif/classcerif00422]",
                "isComposedBy": {
                 "node": {
                  "@id": "c_3e5a",
                  "@label": "contribution to journal",
                  "hasNote": "A contribution to a journal denotes a work published in a journal. If applicable sub-terms should be chosen.",
                  "isComposedBy": {
                   "node": [
                    {
                     "@id": "c_beb9",
                     "@label": "data paper",
                     "hasNote": "A data paper is a scholarly publication describing a particular dataset or group of dataset, published in the form of a peer-reviewed article in a scholarly journal. The main purpose of a data paper is to describe data, the circumstances of their collection, and information related to data features, access and potential reuse. Adapted from https://en.wikipedia.org/wiki/Data_paper and http://www.gbif.org/publishing-data/data-papers"
                    },
                    {
                     "@id": "c_b239",
                     "@label": "editorial",
                     "hasNote": "A brief essay expressing the opinion or position of the chief editor(s) of a (academic) journal with respect to a current political, social, cultural, or professional issue. Adapted from ODLIS [Source: http://www.abc-clio.com/ODLIS/odlis_e.aspx ]"
                    },
                    {
                     "@id": "c_6501",
                     "@label": "journal article",
                     "hasNote": "An article on a particular topic and published in a journal issue.\n (adapted from fabio) [Source: http://dspacecris.eurocris.org/cris/classcerif/classcerif00423]",
                     "isComposedBy": {
                      "node": [
                       {
                        "@id": "c_2df8fbb1",
                        "@label": "research article",
                        "hasNote": "A research article is a primary source, that is, it reports the methods and results of an original study performed by the authors. (adapted from http://apus.libanswers.com/faq/2324)"
                       },
                       {
                        "@id": "c_dcae04bc",
                        "@label": "review article",
                        "hasNote": "A review article is a secondary source, that is, it is written about other articles, and does not report original research of its own. (adapted from http://apus.libanswers.com/faq/2324)"
                       }
                      ]
                     }
                    },
                    {
                     "@id": "c_545b",
                     "@label": "letter to the editor",
                     "hasNote": "A letter to the editor is a letter sent to a periodical about issues of concern from its readers.\n (adapted from Wikipedia) [Source: http://dspacecris.eurocris.org/cris/classcerif/classcerif00429]"
                    }
                   ]
                  }
                 }
                }
               }
              }
             },
             {
              "@id": "c_816b",
              "@label": "preprint",
              "hasNote": "Pre-print describes the first draft of the article - before\n peer-review, even before any contact with a publisher. This use is common amongst academics for whom the key modification of an article is the peer-review process.\n \n Another use of the term pre-print is for the finished article, reviewed and amended, ready and accepted for publication - but separate from the version that is type-set or formatted by the publisher. This use is more common amongst publishers, for whom the final and significant stage of modification to an article is the arrangement of the material for putting to print. [Source: http://www.sherpa.ac.uk/romeoinfo.html ]"
             },
             {
              "@id": "c_93fc",
              "@label": "report",
              "hasNote": "A report is a separately published record of research findings, research still in progress, or other technical findings, usually bearing a report number and sometimes a grant number assigned by the funding agency. Also, an official record of the activities of a committee or corporate entity, the proceedings of a government body, or an investigation by an agency, whether published or private, usually archived or submitted to a higher authority, voluntarily or under mandate. In a more general sense, any formal account of facts or information related to a specific event or phenomenon, sometimes given at regular intervals. [Source: http://lu.com/odlis/odlis_R.cfm#report ]",
              "isComposedBy": {
               "node": [
                {
                 "@id": "c_18ww",
                 "@label": "internal report",
                 "hasNote": "An internal report is a record of findings collected for internal use. It is not designed to be made public and may include confidential or proprietary information."
                },
                {
                 "@id": "c_18wz",
                 "@label": "memorandum",
                 "hasNote": "It is a note, document or other communication that helps the memory by recording events or observations on a topic.\n A memorandum can have only a certain number of formats; it may have a format specific to an office or institution. \n  [Source: https://en.wikipedia.org/wiki/Memorandum]"
                },
                {
                 "@id": "c_18wq",
                 "@label": "other type of report",
                 "hasNote": "Other types of report may include Business Plans Technical Specifications, data management plans, recommendation reports, white papers, annual reports, auditor's reports, workplace reports, census reports, trip reports, progress reports, investigative reports, budget reports, policy reports, demographic reports, credit reports, appraisal reports, inspection reports, military reports, bound reports, etc. [Source: https://en.wikipedia.org/wiki/Report]"
                },
                {
                 "@id": "c_186u",
                 "@label": "policy report",
                 "hasNote": "A policy report is a type of report that provides an in-depth look at major policy developments and events [Source: http://www.ifpri.org/topic/global-food-policy-report]"
                },
                {
                 "@id": "c_18op",
                 "@label": "project deliverable",
                 "hasNote": "A project deliverable is an “outcome” as a result of a project that is intended to be delivered to a customer (e.g. funder). Examples of deliverable are report, document, work package or any other building block of an overall project. [Source: https://en.wikipedia.org/wiki/Deliverable ]"
                },
                {
                 "@id": "c_ba1f",
                 "@label": "report part",
                 "hasNote": "part of a report"
                },
                {
                 "@id": "c_18hj",
                 "@label": "report to funding agency",
                 "hasNote": "A report to a funding agency is a document written by beneficiaries of project grants. The reporting documents can be e.g. periodic reports about progress of scientific and technical work and final report. For deliverables use ‘Project deliverable’. [Source: http://ec.europa.eu/research/participants/fp7documents/funding-guide/6_projects/reports/reports_en.htm  ]"
                },
                {
                 "@id": "c_18ws",
                 "@label": "research report",
                 "hasNote": "Research Reports are reports that typically provide an in-depth study of a particular topic or describe the results of a research project.  [Source: http://www.buildingscience.com/doctypes/reports]"
                },
                {
                 "@id": "c_18gh",
                 "@label": "technical report",
                 "hasNote": "A technical report is a document that records the procedure adopted and results obtained from a scientific or technical activity or investigation."
                }
               ]
              }
             },
             {
              "@id": "c_baaf",
              "@label": "research proposal",
              "hasNote": "documentation for grant request"
             },
             {
              "@id": "c_efa0",
              "@label": "review",
              "hasNote": "A review of others' published work.",
              "isComposedBy": {
               "node": {
                "@id": "c_ba08",
                "@label": "book review",
                "hasNote": "A written review and critical analysis of the content, scope and quality of a book or other monographic work."
               }
              }
             },
             {
              "@id": "c_71bd",
              "@label": "technical documentation",
              "hasNote": "Technical documentation refers to any type of documentation that describes handling, functionality and architecture of a technical product or a product under development or use. [Source: https://en.wikipedia.org/wiki/Technical_documentation]"
             },
             {
              "@id": "c_46ec",
              "@label": "thesis",
              "hasNote": "A thesis or dissertation is a document submitted in support of candidature for an academic degree or professional qualification presenting the author's research and findings. [Source: https://en.wikipedia.org/wiki/Thesis ]",
              "isComposedBy": {
               "node": [
                {
                 "@id": "c_7a1f",
                 "@label": "bachelor thesis",
                 "hasNote": "A thesis reporting a research project undertaken as part of an undergraduate course of education leading to a bachelor's degree."
                },
                {
                 "@id": "c_db06",
                 "@label": "doctoral thesis",
                 "hasNote": "A thesis reporting the research undertaken during a period of graduate study leading to a doctoral degree."
                },
                {
                 "@id": "c_bdcc",
                 "@label": "master thesis",
                 "hasNote": "A thesis reporting a research project undertaken as part of a graduate course of education leading to a master's degree."
                }
               ]
              }
             },
             {
              "@id": "c_8042",
              "@label": "working paper",
              "hasNote": "A working paper or preprint is a report on research that is still on-going or which has not yet been accepted for publication."
             }
            ]
           }
          },
          {
           "@id": "c_393c",
           "@label": "workflow",
           "hasNote": "A recorded sequence of connected steps, which may be automated, specifying a reliably repeatable sequence of operations to be undertaken when conducting a particular job, for example an in silico investigation that extracts and processes information from a number of bioinformatics databases."
          }
         ]
        }
       }
      },
      "text/plain": [
       "<IPython.core.display.JSON object>"
      ]
     },
     "execution_count": 16,
     "metadata": {
      "application/json": {
       "expanded": false,
       "root": "root"
      }
     },
     "output_type": "execute_result"
    }
   ],
   "source": [
    "JSON(data)"
   ]
  },
  {
   "cell_type": "code",
   "execution_count": 17,
   "id": "2c405e4b-2514-4058-9064-80897c6d13fa",
   "metadata": {},
   "outputs": [],
   "source": [
    "def extract_nodes(data, result=None):\n",
    "    if result is None:\n",
    "        result = []\n",
    "\n",
    "    if isinstance(data, dict):\n",
    "        if '@id' in data and '@label' in data:\n",
    "            result.append({\n",
    "                '@id': data['@id'],\n",
    "                '@label': data['@label'],\n",
    "                'hasNote': data.get('hasNote', '')\n",
    "            })\n",
    "\n",
    "        if 'isComposedBy' in data and 'node' in data['isComposedBy']:\n",
    "            nodes = data['isComposedBy']['node']\n",
    "            if isinstance(nodes, dict):\n",
    "                extract_nodes(nodes, result)\n",
    "            elif isinstance(nodes, list):\n",
    "                for node in nodes:\n",
    "                    extract_nodes(node, result)\n",
    "\n",
    "    return result"
   ]
  },
  {
   "cell_type": "code",
   "execution_count": 27,
   "id": "81099a78-3441-4a7f-9f9a-b5d7c5b03ed5",
   "metadata": {},
   "outputs": [
    {
     "data": {
      "text/html": [
       "<div>\n",
       "<style scoped>\n",
       "    .dataframe tbody tr th:only-of-type {\n",
       "        vertical-align: middle;\n",
       "    }\n",
       "\n",
       "    .dataframe tbody tr th {\n",
       "        vertical-align: top;\n",
       "    }\n",
       "\n",
       "    .dataframe thead th {\n",
       "        text-align: right;\n",
       "    }\n",
       "</style>\n",
       "<table border=\"1\" class=\"dataframe\">\n",
       "  <thead>\n",
       "    <tr style=\"text-align: right;\">\n",
       "      <th></th>\n",
       "      <th>@id</th>\n",
       "      <th>@label</th>\n",
       "      <th>hasNote</th>\n",
       "    </tr>\n",
       "  </thead>\n",
       "  <tbody>\n",
       "    <tr>\n",
       "      <th>0</th>\n",
       "      <td>http://purl.org/coar/resource_type</td>\n",
       "      <td>Resource Types</td>\n",
       "      <td></td>\n",
       "    </tr>\n",
       "    <tr>\n",
       "      <th>1</th>\n",
       "      <td>c_12cc</td>\n",
       "      <td>cartographic material</td>\n",
       "      <td>Any material representing the whole or part of...</td>\n",
       "    </tr>\n",
       "    <tr>\n",
       "      <th>2</th>\n",
       "      <td>c_12cd</td>\n",
       "      <td>map</td>\n",
       "      <td>Defined as a representation normally to scale ...</td>\n",
       "    </tr>\n",
       "    <tr>\n",
       "      <th>3</th>\n",
       "      <td>c_ddb1</td>\n",
       "      <td>dataset</td>\n",
       "      <td>A collection of related facts and data encoded...</td>\n",
       "    </tr>\n",
       "    <tr>\n",
       "      <th>4</th>\n",
       "      <td>c_c513</td>\n",
       "      <td>image</td>\n",
       "      <td>A visual representation other than text, inclu...</td>\n",
       "    </tr>\n",
       "    <tr>\n",
       "      <th>...</th>\n",
       "      <td>...</td>\n",
       "      <td>...</td>\n",
       "      <td>...</td>\n",
       "    </tr>\n",
       "    <tr>\n",
       "      <th>323</th>\n",
       "      <td>c_bdcc</td>\n",
       "      <td>master thesis</td>\n",
       "      <td>A thesis reporting a research project undertak...</td>\n",
       "    </tr>\n",
       "    <tr>\n",
       "      <th>324</th>\n",
       "      <td>6NC7-GK9S</td>\n",
       "      <td>transcription</td>\n",
       "      <td>A written record of words spoken in court proc...</td>\n",
       "    </tr>\n",
       "    <tr>\n",
       "      <th>325</th>\n",
       "      <td>c_8042</td>\n",
       "      <td>working paper</td>\n",
       "      <td>A working or discussion paper circulated publi...</td>\n",
       "    </tr>\n",
       "    <tr>\n",
       "      <th>326</th>\n",
       "      <td>H6QP-SC1X</td>\n",
       "      <td>trademark</td>\n",
       "      <td>A sign used to distinguish the goods or servic...</td>\n",
       "    </tr>\n",
       "    <tr>\n",
       "      <th>327</th>\n",
       "      <td>c_393c</td>\n",
       "      <td>workflow</td>\n",
       "      <td>A recorded sequence of connected steps, which ...</td>\n",
       "    </tr>\n",
       "  </tbody>\n",
       "</table>\n",
       "<p>328 rows × 3 columns</p>\n",
       "</div>"
      ],
      "text/plain": [
       "                                    @id                 @label  \\\n",
       "0    http://purl.org/coar/resource_type         Resource Types   \n",
       "1                                c_12cc  cartographic material   \n",
       "2                                c_12cd                    map   \n",
       "3                                c_ddb1                dataset   \n",
       "4                                c_c513                  image   \n",
       "..                                  ...                    ...   \n",
       "323                              c_bdcc          master thesis   \n",
       "324                           6NC7-GK9S          transcription   \n",
       "325                              c_8042          working paper   \n",
       "326                           H6QP-SC1X              trademark   \n",
       "327                              c_393c               workflow   \n",
       "\n",
       "                                               hasNote  \n",
       "0                                                       \n",
       "1    Any material representing the whole or part of...  \n",
       "2    Defined as a representation normally to scale ...  \n",
       "3    A collection of related facts and data encoded...  \n",
       "4    A visual representation other than text, inclu...  \n",
       "..                                                 ...  \n",
       "323  A thesis reporting a research project undertak...  \n",
       "324  A written record of words spoken in court proc...  \n",
       "325  A working or discussion paper circulated publi...  \n",
       "326  A sign used to distinguish the goods or servic...  \n",
       "327  A recorded sequence of connected steps, which ...  \n",
       "\n",
       "[328 rows x 3 columns]"
      ]
     },
     "execution_count": 27,
     "metadata": {},
     "output_type": "execute_result"
    }
   ],
   "source": [
    "#https://vocabularies.coar-repositories.org/resource_types/1.1/\n",
    "df=pd.DataFrame()\n",
    "versions=[\"1.1\",\"2.0\",\"3.1\",\"3.2\"]\n",
    "for i in versions:\n",
    "    req = requests.get(f\"https://vocabularies.coar-repositories.org/resource_types/{i}/resource_types_for_dspace_en.xml\")\n",
    "    data=xmltodict.parse(req.text)\n",
    "    values=extract_nodes(data[\"node\"])\n",
    "    df = pd.concat([df, pd.DataFrame(values)], ignore_index=True)\n",
    "df"
   ]
  },
  {
   "cell_type": "code",
   "execution_count": 28,
   "id": "12dc9c8d-846f-4119-a295-93d19b3a2b65",
   "metadata": {},
   "outputs": [
    {
     "data": {
      "text/html": [
       "<div>\n",
       "<style scoped>\n",
       "    .dataframe tbody tr th:only-of-type {\n",
       "        vertical-align: middle;\n",
       "    }\n",
       "\n",
       "    .dataframe tbody tr th {\n",
       "        vertical-align: top;\n",
       "    }\n",
       "\n",
       "    .dataframe thead th {\n",
       "        text-align: right;\n",
       "    }\n",
       "</style>\n",
       "<table border=\"1\" class=\"dataframe\">\n",
       "  <thead>\n",
       "    <tr style=\"text-align: right;\">\n",
       "      <th></th>\n",
       "      <th>@id</th>\n",
       "      <th>@label</th>\n",
       "      <th>hasNote</th>\n",
       "    </tr>\n",
       "  </thead>\n",
       "  <tbody>\n",
       "    <tr>\n",
       "      <th>0</th>\n",
       "      <td>http://purl.org/coar/resource_type</td>\n",
       "      <td>Resource Types</td>\n",
       "      <td></td>\n",
       "    </tr>\n",
       "    <tr>\n",
       "      <th>1</th>\n",
       "      <td>c_12cc</td>\n",
       "      <td>cartographic material</td>\n",
       "      <td>Any material representing the whole or part of...</td>\n",
       "    </tr>\n",
       "    <tr>\n",
       "      <th>2</th>\n",
       "      <td>c_12cd</td>\n",
       "      <td>map</td>\n",
       "      <td>Defined as a representation normally to scale ...</td>\n",
       "    </tr>\n",
       "    <tr>\n",
       "      <th>3</th>\n",
       "      <td>c_ddb1</td>\n",
       "      <td>dataset</td>\n",
       "      <td>A collection of related facts and data encoded...</td>\n",
       "    </tr>\n",
       "    <tr>\n",
       "      <th>4</th>\n",
       "      <td>c_c513</td>\n",
       "      <td>image</td>\n",
       "      <td>A visual representation other than text, inclu...</td>\n",
       "    </tr>\n",
       "    <tr>\n",
       "      <th>...</th>\n",
       "      <td>...</td>\n",
       "      <td>...</td>\n",
       "      <td>...</td>\n",
       "    </tr>\n",
       "    <tr>\n",
       "      <th>255</th>\n",
       "      <td>GSZA-Y7V7</td>\n",
       "      <td>knowledge organization system</td>\n",
       "      <td>All types of schemes for organizing informatio...</td>\n",
       "    </tr>\n",
       "    <tr>\n",
       "      <th>265</th>\n",
       "      <td>S7R1-K5P0</td>\n",
       "      <td>physical sample</td>\n",
       "      <td>Physical samples include biological specimens,...</td>\n",
       "    </tr>\n",
       "    <tr>\n",
       "      <th>266</th>\n",
       "      <td>8KJG-QS0Y</td>\n",
       "      <td>research instrument</td>\n",
       "      <td>A device, tool or apparatus used to obtain, me...</td>\n",
       "    </tr>\n",
       "    <tr>\n",
       "      <th>297</th>\n",
       "      <td>43KC-T6DC</td>\n",
       "      <td>magazine article</td>\n",
       "      <td>An Item appearing in a magazine (a general int...</td>\n",
       "    </tr>\n",
       "    <tr>\n",
       "      <th>307</th>\n",
       "      <td>DX5J-TA9R</td>\n",
       "      <td>knowledge synthesis protocol</td>\n",
       "      <td>In the context of systematic reviews and meta-...</td>\n",
       "    </tr>\n",
       "  </tbody>\n",
       "</table>\n",
       "<p>111 rows × 3 columns</p>\n",
       "</div>"
      ],
      "text/plain": [
       "                                    @id                         @label  \\\n",
       "0    http://purl.org/coar/resource_type                 Resource Types   \n",
       "1                                c_12cc          cartographic material   \n",
       "2                                c_12cd                            map   \n",
       "3                                c_ddb1                        dataset   \n",
       "4                                c_c513                          image   \n",
       "..                                  ...                            ...   \n",
       "255                           GSZA-Y7V7  knowledge organization system   \n",
       "265                           S7R1-K5P0                physical sample   \n",
       "266                           8KJG-QS0Y            research instrument   \n",
       "297                           43KC-T6DC               magazine article   \n",
       "307                           DX5J-TA9R   knowledge synthesis protocol   \n",
       "\n",
       "                                               hasNote  \n",
       "0                                                       \n",
       "1    Any material representing the whole or part of...  \n",
       "2    Defined as a representation normally to scale ...  \n",
       "3    A collection of related facts and data encoded...  \n",
       "4    A visual representation other than text, inclu...  \n",
       "..                                                 ...  \n",
       "255  All types of schemes for organizing informatio...  \n",
       "265  Physical samples include biological specimens,...  \n",
       "266  A device, tool or apparatus used to obtain, me...  \n",
       "297  An Item appearing in a magazine (a general int...  \n",
       "307  In the context of systematic reviews and meta-...  \n",
       "\n",
       "[111 rows x 3 columns]"
      ]
     },
     "execution_count": 28,
     "metadata": {},
     "output_type": "execute_result"
    }
   ],
   "source": [
    "df_unique = df.drop_duplicates(subset=['@id'], keep='first')\n",
    "df_unique"
   ]
  },
  {
   "cell_type": "code",
   "execution_count": 31,
   "id": "996dc55f-36f8-48e2-a022-0aa5dff60be6",
   "metadata": {},
   "outputs": [],
   "source": [
    "df_unique.to_excel(\"coar_types.xlsx\")"
   ]
  },
  {
   "cell_type": "code",
   "execution_count": null,
   "id": "426f37c7-1a7d-4f27-b09e-cc271cff239d",
   "metadata": {},
   "outputs": [],
   "source": []
  }
 ],
 "metadata": {
  "kernelspec": {
   "display_name": "Python 3 (ipykernel)",
   "language": "python",
   "name": "python3"
  },
  "language_info": {
   "codemirror_mode": {
    "name": "ipython",
    "version": 3
   },
   "file_extension": ".py",
   "mimetype": "text/x-python",
   "name": "python",
   "nbconvert_exporter": "python",
   "pygments_lexer": "ipython3",
   "version": "3.12.3"
  }
 },
 "nbformat": 4,
 "nbformat_minor": 5
}
